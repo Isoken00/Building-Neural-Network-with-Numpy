{
 "cells": [
  {
   "cell_type": "markdown",
   "id": "300d3166",
   "metadata": {},
   "source": [
    "## *Building a Neural Network from scratch using Numpy*\n",
    "## Project Description\n",
    "### Overview\n",
    "A neural network is a set of algorithms that aim to recognize the underlying pattern in the data. These are subsets of Machine learning and the heart of deep learning algorithms. Neural networks are inspired by the working of the human brain. \n",
    "Neural networks are applied in many real-life applications like self-driving cars, speech recognition, medical diagnosis, and many more.\n",
    "In this project, I will be building a neural network from scratch just by using NumPy only and not by using any deep learning frameworks. The built neural network will predict the price of the house in Pune, India. This project will also give us an in-depth idea about the working of neural networks. \n",
    "### Aim\n",
    "- To understand the working of Neural networks\n",
    "- To build a neural network from scratch using NumPy \n",
    "\n",
    "\n",
    "\n",
    "### Data Description\n",
    "The dataset contains information about the prices of houses based on various attributes. The dataset contains the prices of houses from Pune, Maharashtra(India). \n",
    "\n",
    "\n",
    "\n",
    "### Tech Stack\n",
    "Language: Python\n",
    "Libraries: pandas, sci-kit learn, numpy\n",
    "\n",
    "\n",
    "\n",
    "### Approach\n",
    "- Data Preprocessing\n",
    "- Removing null values\n",
    "- Scaling numerical features\n",
    "- One-Hot encoding of categorical data\n",
    " \n",
    "\n",
    "### Model Training\n",
    "Training neural network model\n",
    " \n",
    "\n",
    "### Model Evaluation\n",
    "Evaluation of model on test data\n",
    "\n"
   ]
  },
  {
   "cell_type": "code",
   "execution_count": 2,
   "id": "131d6dea",
   "metadata": {},
   "outputs": [],
   "source": [
    "#importing necessary libraries\n",
    "import numpy as np\n",
    "import pandas as pd\n",
    "import matplotlib.pyplot as plt\n",
    "from sklearn.preprocessing import MinMaxScaler"
   ]
  },
  {
   "cell_type": "markdown",
   "id": "3afb21e2",
   "metadata": {},
   "source": [
    "## The Dataset\n",
    "The dataset consists of house price data for properties in Pune, India. We have 200 individual data points across 17 different features.\n",
    "We will start by loading and visualising the data, analysing the variable types, and selecting the variables needed.\n",
    "\n"
   ]
  },
  {
   "cell_type": "code",
   "execution_count": 3,
   "id": "349a5fb2",
   "metadata": {},
   "outputs": [],
   "source": [
    "# load the data\n",
    "df = pd.read_excel('/Users/hp/Downloads/Real_Estate_Data.xlsx')"
   ]
  },
  {
   "cell_type": "code",
   "execution_count": 4,
   "id": "0a1225df",
   "metadata": {},
   "outputs": [
    {
     "data": {
      "text/html": [
       "<div>\n",
       "<style scoped>\n",
       "    .dataframe tbody tr th:only-of-type {\n",
       "        vertical-align: middle;\n",
       "    }\n",
       "\n",
       "    .dataframe tbody tr th {\n",
       "        vertical-align: top;\n",
       "    }\n",
       "\n",
       "    .dataframe thead th {\n",
       "        text-align: right;\n",
       "    }\n",
       "</style>\n",
       "<table border=\"1\" class=\"dataframe\">\n",
       "  <thead>\n",
       "    <tr style=\"text-align: right;\">\n",
       "      <th></th>\n",
       "      <th>Sr. No.</th>\n",
       "      <th>Location</th>\n",
       "      <th>Sub-Area</th>\n",
       "      <th>Propert Type</th>\n",
       "      <th>Property Area in Sq. Ft.</th>\n",
       "      <th>Price in lakhs</th>\n",
       "      <th>Price in Millions</th>\n",
       "      <th>Company Name</th>\n",
       "      <th>TownShip Name/ Society Name</th>\n",
       "      <th>Total TownShip Area in Acres</th>\n",
       "      <th>ClubHouse</th>\n",
       "      <th>School / University in Township</th>\n",
       "      <th>Hospital in TownShip</th>\n",
       "      <th>Mall in TownShip</th>\n",
       "      <th>Park / Jogging track</th>\n",
       "      <th>Swimming Pool</th>\n",
       "      <th>Gym</th>\n",
       "    </tr>\n",
       "  </thead>\n",
       "  <tbody>\n",
       "    <tr>\n",
       "      <th>0</th>\n",
       "      <td>1</td>\n",
       "      <td>Pune, Maharashtra, India</td>\n",
       "      <td>Bavdhan</td>\n",
       "      <td>1 BHK</td>\n",
       "      <td>492.0</td>\n",
       "      <td>39</td>\n",
       "      <td>3.9</td>\n",
       "      <td>Shapoorji Paloonji</td>\n",
       "      <td>Vanaha</td>\n",
       "      <td>1000.0</td>\n",
       "      <td>Yes</td>\n",
       "      <td>Yes</td>\n",
       "      <td>Yes</td>\n",
       "      <td>Yes</td>\n",
       "      <td>Yes</td>\n",
       "      <td>Yes</td>\n",
       "      <td>Yes</td>\n",
       "    </tr>\n",
       "    <tr>\n",
       "      <th>1</th>\n",
       "      <td>2</td>\n",
       "      <td>Pune, Maharashtra, India</td>\n",
       "      <td>Bavdhan</td>\n",
       "      <td>2 BHK</td>\n",
       "      <td>774.0</td>\n",
       "      <td>65</td>\n",
       "      <td>6.5</td>\n",
       "      <td>Shapoorji Paloonji</td>\n",
       "      <td>Vanaha</td>\n",
       "      <td>1000.0</td>\n",
       "      <td>Yes</td>\n",
       "      <td>Yes</td>\n",
       "      <td>Yes</td>\n",
       "      <td>Yes</td>\n",
       "      <td>Yes</td>\n",
       "      <td>Yes</td>\n",
       "      <td>Yes</td>\n",
       "    </tr>\n",
       "    <tr>\n",
       "      <th>2</th>\n",
       "      <td>3</td>\n",
       "      <td>Pune, Maharashtra, India</td>\n",
       "      <td>Bavdhan</td>\n",
       "      <td>3 BHK</td>\n",
       "      <td>889.0</td>\n",
       "      <td>74</td>\n",
       "      <td>7.4</td>\n",
       "      <td>Shapoorji Paloonji</td>\n",
       "      <td>Vanaha</td>\n",
       "      <td>1000.0</td>\n",
       "      <td>Yes</td>\n",
       "      <td>Yes</td>\n",
       "      <td>Yes</td>\n",
       "      <td>Yes</td>\n",
       "      <td>Yes</td>\n",
       "      <td>Yes</td>\n",
       "      <td>Yes</td>\n",
       "    </tr>\n",
       "    <tr>\n",
       "      <th>3</th>\n",
       "      <td>4</td>\n",
       "      <td>Pune, Maharashtra, India</td>\n",
       "      <td>Bavdhan</td>\n",
       "      <td>3 BHK Grand</td>\n",
       "      <td>1018.0</td>\n",
       "      <td>89</td>\n",
       "      <td>8.9</td>\n",
       "      <td>Shapoorji Paloonji</td>\n",
       "      <td>Vanaha</td>\n",
       "      <td>1000.0</td>\n",
       "      <td>Yes</td>\n",
       "      <td>Yes</td>\n",
       "      <td>Yes</td>\n",
       "      <td>Yes</td>\n",
       "      <td>Yes</td>\n",
       "      <td>Yes</td>\n",
       "      <td>Yes</td>\n",
       "    </tr>\n",
       "    <tr>\n",
       "      <th>4</th>\n",
       "      <td>5</td>\n",
       "      <td>Pune, Maharashtra, India</td>\n",
       "      <td>Mahalunge</td>\n",
       "      <td>2BHK</td>\n",
       "      <td>743.0</td>\n",
       "      <td>74</td>\n",
       "      <td>7.4</td>\n",
       "      <td>Godrej Properties</td>\n",
       "      <td>Godrej Hills retreat</td>\n",
       "      <td>100.0</td>\n",
       "      <td>Yes</td>\n",
       "      <td>Yes</td>\n",
       "      <td>Yes</td>\n",
       "      <td>Yes</td>\n",
       "      <td>Yes</td>\n",
       "      <td>Yes</td>\n",
       "      <td>Yes</td>\n",
       "    </tr>\n",
       "  </tbody>\n",
       "</table>\n",
       "</div>"
      ],
      "text/plain": [
       "   Sr. No.                  Location   Sub-Area Propert Type  \\\n",
       "0        1  Pune, Maharashtra, India    Bavdhan        1 BHK   \n",
       "1        2  Pune, Maharashtra, India    Bavdhan        2 BHK   \n",
       "2        3  Pune, Maharashtra, India    Bavdhan        3 BHK   \n",
       "3        4  Pune, Maharashtra, India    Bavdhan  3 BHK Grand   \n",
       "4        5  Pune, Maharashtra, India  Mahalunge         2BHK   \n",
       "\n",
       "   Property Area in Sq. Ft. Price in lakhs  Price in Millions  \\\n",
       "0                     492.0             39                3.9   \n",
       "1                     774.0             65                6.5   \n",
       "2                     889.0             74                7.4   \n",
       "3                    1018.0             89                8.9   \n",
       "4                     743.0             74                7.4   \n",
       "\n",
       "         Company Name TownShip Name/ Society Name  \\\n",
       "0  Shapoorji Paloonji                     Vanaha    \n",
       "1  Shapoorji Paloonji                     Vanaha    \n",
       "2  Shapoorji Paloonji                     Vanaha    \n",
       "3  Shapoorji Paloonji                     Vanaha    \n",
       "4   Godrej Properties        Godrej Hills retreat   \n",
       "\n",
       "   Total TownShip Area in Acres ClubHouse School / University in Township   \\\n",
       "0                        1000.0       Yes                              Yes   \n",
       "1                        1000.0       Yes                              Yes   \n",
       "2                        1000.0       Yes                              Yes   \n",
       "3                        1000.0       Yes                              Yes   \n",
       "4                         100.0       Yes                              Yes   \n",
       "\n",
       "  Hospital in TownShip Mall in TownShip Park / Jogging track Swimming Pool  \\\n",
       "0                  Yes              Yes                  Yes           Yes   \n",
       "1                  Yes              Yes                  Yes           Yes   \n",
       "2                  Yes              Yes                  Yes           Yes   \n",
       "3                  Yes              Yes                  Yes           Yes   \n",
       "4                  Yes              Yes                  Yes           Yes   \n",
       "\n",
       "   Gym  \n",
       "0  Yes  \n",
       "1  Yes  \n",
       "2  Yes  \n",
       "3  Yes  \n",
       "4  Yes  "
      ]
     },
     "execution_count": 4,
     "metadata": {},
     "output_type": "execute_result"
    }
   ],
   "source": [
    "# view the top rows\n",
    "df.head()"
   ]
  },
  {
   "cell_type": "code",
   "execution_count": 5,
   "id": "55e6123a",
   "metadata": {},
   "outputs": [
    {
     "data": {
      "text/plain": [
       "Sr. No.                               int64\n",
       "Location                             object\n",
       "Sub-Area                             object\n",
       "Propert Type                         object\n",
       "Property Area in Sq. Ft.            float64\n",
       "Price in lakhs                       object\n",
       "Price in Millions                   float64\n",
       "Company Name                         object\n",
       "TownShip Name/ Society Name          object\n",
       "Total TownShip Area in Acres        float64\n",
       "ClubHouse                            object\n",
       "School / University in Township      object\n",
       "Hospital in TownShip                 object\n",
       "Mall in TownShip                     object\n",
       "Park / Jogging track                 object\n",
       "Swimming Pool                        object\n",
       "Gym                                  object\n",
       "dtype: object"
      ]
     },
     "execution_count": 5,
     "metadata": {},
     "output_type": "execute_result"
    }
   ],
   "source": [
    "# check the data types in our dataframe:\n",
    "df.dtypes"
   ]
  },
  {
   "cell_type": "markdown",
   "id": "a49c478d",
   "metadata": {},
   "source": [
    "Analysing the dataset, I can see that I have a mixture of data types, some are quantitative (i.e., *'int64'*, *'float64'*), but the majority qualitative in nature (*'object'*). To run our *Neural Network Model (Multilayer Perceptrons)*, I will need to have floating variables only (*'float64'*) as these are the only variable type the neural network can perform computation on; it can also work with integer numbers, but it will convert them into floating. \n",
    "\n",
    "## Dataset Cleaning\n",
    "Specifically, I am going to follow the below steps:\n",
    "1. Extract the relevant variables.\n",
    "2. Remove rows containing *'NaN'* values, if any.\n",
    "3. Convert qualitative variables into quantitative, i.e., from *'object'* to *'float64'*.\n",
    "4. Scale variables, if needed.\n",
    "\n",
    "### Extract the relevant variables\n",
    "\n",
    "For my model, I am going to select 5 variables that are probably the most relevant:\n",
    "1. Propert Type\n",
    "2. Property Area in Sq. Ft.\n",
    "3. Sub-Area\n",
    "4. Swimming Pool\n",
    "5. Price in Millions\n",
    "\n",
    "Important to note, *'Price in Millions'* is the variable I want to predict, therefore, I will split it from the dataset afterwards.\n",
    "\n",
    "Let's start by selecting those variables.\n"
   ]
  },
  {
   "cell_type": "code",
   "execution_count": 6,
   "id": "cbc430bf",
   "metadata": {},
   "outputs": [],
   "source": [
    "# variables selection\n",
    "df_selection = df[['Propert Type','Property Area in Sq. Ft.','Sub-Area','Swimming Pool','Price in Millions']]"
   ]
  },
  {
   "cell_type": "code",
   "execution_count": 7,
   "id": "941f3230",
   "metadata": {},
   "outputs": [
    {
     "data": {
      "text/html": [
       "<div>\n",
       "<style scoped>\n",
       "    .dataframe tbody tr th:only-of-type {\n",
       "        vertical-align: middle;\n",
       "    }\n",
       "\n",
       "    .dataframe tbody tr th {\n",
       "        vertical-align: top;\n",
       "    }\n",
       "\n",
       "    .dataframe thead th {\n",
       "        text-align: right;\n",
       "    }\n",
       "</style>\n",
       "<table border=\"1\" class=\"dataframe\">\n",
       "  <thead>\n",
       "    <tr style=\"text-align: right;\">\n",
       "      <th></th>\n",
       "      <th>Propert Type</th>\n",
       "      <th>Property Area in Sq. Ft.</th>\n",
       "      <th>Sub-Area</th>\n",
       "      <th>Swimming Pool</th>\n",
       "      <th>Price in Millions</th>\n",
       "    </tr>\n",
       "  </thead>\n",
       "  <tbody>\n",
       "    <tr>\n",
       "      <th>0</th>\n",
       "      <td>1 BHK</td>\n",
       "      <td>492.0</td>\n",
       "      <td>Bavdhan</td>\n",
       "      <td>Yes</td>\n",
       "      <td>3.9</td>\n",
       "    </tr>\n",
       "    <tr>\n",
       "      <th>1</th>\n",
       "      <td>2 BHK</td>\n",
       "      <td>774.0</td>\n",
       "      <td>Bavdhan</td>\n",
       "      <td>Yes</td>\n",
       "      <td>6.5</td>\n",
       "    </tr>\n",
       "    <tr>\n",
       "      <th>2</th>\n",
       "      <td>3 BHK</td>\n",
       "      <td>889.0</td>\n",
       "      <td>Bavdhan</td>\n",
       "      <td>Yes</td>\n",
       "      <td>7.4</td>\n",
       "    </tr>\n",
       "    <tr>\n",
       "      <th>3</th>\n",
       "      <td>3 BHK Grand</td>\n",
       "      <td>1018.0</td>\n",
       "      <td>Bavdhan</td>\n",
       "      <td>Yes</td>\n",
       "      <td>8.9</td>\n",
       "    </tr>\n",
       "    <tr>\n",
       "      <th>4</th>\n",
       "      <td>2BHK</td>\n",
       "      <td>743.0</td>\n",
       "      <td>Mahalunge</td>\n",
       "      <td>Yes</td>\n",
       "      <td>7.4</td>\n",
       "    </tr>\n",
       "  </tbody>\n",
       "</table>\n",
       "</div>"
      ],
      "text/plain": [
       "  Propert Type  Property Area in Sq. Ft.   Sub-Area Swimming Pool  \\\n",
       "0        1 BHK                     492.0    Bavdhan           Yes   \n",
       "1        2 BHK                     774.0    Bavdhan           Yes   \n",
       "2        3 BHK                     889.0    Bavdhan           Yes   \n",
       "3  3 BHK Grand                    1018.0    Bavdhan           Yes   \n",
       "4         2BHK                     743.0  Mahalunge           Yes   \n",
       "\n",
       "   Price in Millions  \n",
       "0                3.9  \n",
       "1                6.5  \n",
       "2                7.4  \n",
       "3                8.9  \n",
       "4                7.4  "
      ]
     },
     "execution_count": 7,
     "metadata": {},
     "output_type": "execute_result"
    }
   ],
   "source": [
    "df_selection.head()"
   ]
  },
  {
   "cell_type": "markdown",
   "id": "c5c6946e",
   "metadata": {},
   "source": [
    "## Removing missing Data\n",
    "Missing data can be handle in different ways, e.g., replacing, interpolating, or removing data, depending on the size of the dataset, and the usefulness of that data point. In this case, I am going to remove each row containing *missing data*, or *NaN*, to avoid errors when running the model.\n",
    "\n",
    "Let's check if I have any missing data in our dataset."
   ]
  },
  {
   "cell_type": "code",
   "execution_count": 8,
   "id": "e938761d",
   "metadata": {},
   "outputs": [
    {
     "data": {
      "text/html": [
       "<div>\n",
       "<style scoped>\n",
       "    .dataframe tbody tr th:only-of-type {\n",
       "        vertical-align: middle;\n",
       "    }\n",
       "\n",
       "    .dataframe tbody tr th {\n",
       "        vertical-align: top;\n",
       "    }\n",
       "\n",
       "    .dataframe thead th {\n",
       "        text-align: right;\n",
       "    }\n",
       "</style>\n",
       "<table border=\"1\" class=\"dataframe\">\n",
       "  <thead>\n",
       "    <tr style=\"text-align: right;\">\n",
       "      <th></th>\n",
       "      <th>Propert Type</th>\n",
       "      <th>Property Area in Sq. Ft.</th>\n",
       "      <th>Sub-Area</th>\n",
       "      <th>Swimming Pool</th>\n",
       "      <th>Price in Millions</th>\n",
       "    </tr>\n",
       "  </thead>\n",
       "  <tbody>\n",
       "    <tr>\n",
       "      <th>41</th>\n",
       "      <td>3BHK</td>\n",
       "      <td>1705.0</td>\n",
       "      <td>Keshav Nagar</td>\n",
       "      <td>Yes</td>\n",
       "      <td>NaN</td>\n",
       "    </tr>\n",
       "  </tbody>\n",
       "</table>\n",
       "</div>"
      ],
      "text/plain": [
       "   Propert Type  Property Area in Sq. Ft.      Sub-Area Swimming Pool  \\\n",
       "41         3BHK                    1705.0  Keshav Nagar           Yes   \n",
       "\n",
       "    Price in Millions  \n",
       "41                NaN  "
      ]
     },
     "execution_count": 8,
     "metadata": {},
     "output_type": "execute_result"
    }
   ],
   "source": [
    "# let's check if we have any 'NaN' in the dataset\n",
    "nan_rows = df_selection[df_selection.isnull().any(axis = 1)]\n",
    "nan_rows"
   ]
  },
  {
   "cell_type": "markdown",
   "id": "c07be411",
   "metadata": {},
   "source": [
    "We can see that row 41 includes missing values, therefore, we are going to drop them using the *`drop`* function."
   ]
  },
  {
   "cell_type": "code",
   "execution_count": 9,
   "id": "921de6c8",
   "metadata": {},
   "outputs": [],
   "source": [
    "# given we do have 'NaN' values, let's store them in a new variable ('nan_rows') and drop their respective rows\n",
    "nan_rows = nan_rows.index.values"
   ]
  },
  {
   "cell_type": "code",
   "execution_count": 10,
   "id": "0d698488",
   "metadata": {},
   "outputs": [],
   "source": [
    "# drop the respective rows\n",
    "df_selection = df_selection.drop(nan_rows)"
   ]
  },
  {
   "cell_type": "code",
   "execution_count": 11,
   "id": "8cf37fb9",
   "metadata": {},
   "outputs": [
    {
     "data": {
      "text/html": [
       "<div>\n",
       "<style scoped>\n",
       "    .dataframe tbody tr th:only-of-type {\n",
       "        vertical-align: middle;\n",
       "    }\n",
       "\n",
       "    .dataframe tbody tr th {\n",
       "        vertical-align: top;\n",
       "    }\n",
       "\n",
       "    .dataframe thead th {\n",
       "        text-align: right;\n",
       "    }\n",
       "</style>\n",
       "<table border=\"1\" class=\"dataframe\">\n",
       "  <thead>\n",
       "    <tr style=\"text-align: right;\">\n",
       "      <th></th>\n",
       "      <th>Propert Type</th>\n",
       "      <th>Property Area in Sq. Ft.</th>\n",
       "      <th>Sub-Area</th>\n",
       "      <th>Swimming Pool</th>\n",
       "      <th>Price in Millions</th>\n",
       "    </tr>\n",
       "  </thead>\n",
       "  <tbody>\n",
       "  </tbody>\n",
       "</table>\n",
       "</div>"
      ],
      "text/plain": [
       "Empty DataFrame\n",
       "Columns: [Propert Type, Property Area in Sq. Ft., Sub-Area, Swimming Pool, Price in Millions]\n",
       "Index: []"
      ]
     },
     "execution_count": 11,
     "metadata": {},
     "output_type": "execute_result"
    }
   ],
   "source": [
    "# let's check that all rows containing NaN values have been removed\n",
    "df_selection[df_selection.isnull().any(axis = 1)]"
   ]
  },
  {
   "cell_type": "markdown",
   "id": "7c3530ac",
   "metadata": {},
   "source": [
    "### Variables Conversion from Qualitative to Quantitative\n",
    "All the variables extracted from the original database, except for `'Price in Millions'`, are qualitative variables. \n",
    "Therefore, I will need to convert them into quantitative variables.\n",
    "\n",
    "Let's start with the first variable, `'Propert Type'`, which, as the header suggests, represents the property type (i.e., 1 BHK is 1 bedroom, hall, and kitchen, 2 BHK is 2 bedroom, hall, and kitchen and so on). To convert the variable into *float*, I am going to extract the number included in the variable's value. "
   ]
  },
  {
   "cell_type": "code",
   "execution_count": 12,
   "id": "15cfc8f0",
   "metadata": {},
   "outputs": [],
   "source": [
    "# extract the numerical value for the 'Propert Type'\n",
    "df_selection['Propert Type'] = df_selection['Propert Type'].str.extract('(\\d+)')"
   ]
  },
  {
   "cell_type": "markdown",
   "id": "0f3a3785",
   "metadata": {},
   "source": [
    "We must be aware that, this operation could have generated additional missing values. In the case one variable's value didn't include a number, but text only, the resulting value would be *NaN*. Therefore, I need to check once again, if missing values have been generated."
   ]
  },
  {
   "cell_type": "code",
   "execution_count": 13,
   "id": "3067fe99",
   "metadata": {},
   "outputs": [
    {
     "data": {
      "text/html": [
       "<div>\n",
       "<style scoped>\n",
       "    .dataframe tbody tr th:only-of-type {\n",
       "        vertical-align: middle;\n",
       "    }\n",
       "\n",
       "    .dataframe tbody tr th {\n",
       "        vertical-align: top;\n",
       "    }\n",
       "\n",
       "    .dataframe thead th {\n",
       "        text-align: right;\n",
       "    }\n",
       "</style>\n",
       "<table border=\"1\" class=\"dataframe\">\n",
       "  <thead>\n",
       "    <tr style=\"text-align: right;\">\n",
       "      <th></th>\n",
       "      <th>Propert Type</th>\n",
       "      <th>Property Area in Sq. Ft.</th>\n",
       "      <th>Sub-Area</th>\n",
       "      <th>Swimming Pool</th>\n",
       "      <th>Price in Millions</th>\n",
       "    </tr>\n",
       "  </thead>\n",
       "  <tbody>\n",
       "    <tr>\n",
       "      <th>51</th>\n",
       "      <td>NaN</td>\n",
       "      <td>163.0</td>\n",
       "      <td>pimpri pune</td>\n",
       "      <td>no</td>\n",
       "      <td>5.4</td>\n",
       "    </tr>\n",
       "  </tbody>\n",
       "</table>\n",
       "</div>"
      ],
      "text/plain": [
       "   Propert Type  Property Area in Sq. Ft.     Sub-Area Swimming Pool  \\\n",
       "51          NaN                     163.0  pimpri pune            no   \n",
       "\n",
       "    Price in Millions  \n",
       "51                5.4  "
      ]
     },
     "execution_count": 13,
     "metadata": {},
     "output_type": "execute_result"
    }
   ],
   "source": [
    "# let's check if we have any 'NaN' in the dataset\n",
    "nan_rows = df_selection[df_selection.isnull().any(axis = 1)]\n",
    "nan_rows"
   ]
  },
  {
   "cell_type": "markdown",
   "id": "f23dd325",
   "metadata": {},
   "source": [
    " As expected, row 51 is now *NaN*. Let's drop it and go on with the data cleaning. "
   ]
  },
  {
   "cell_type": "code",
   "execution_count": 15,
   "id": "dcd33c40",
   "metadata": {},
   "outputs": [],
   "source": [
    "# given we do have 'NaN' values, let's store them in a new variable ('nan_rows') and drop their respective rows\n",
    "nan_rows = nan_rows.index.values\n",
    "# drop the respective rows\n",
    "df_selection = df_selection.drop(nan_rows)"
   ]
  },
  {
   "cell_type": "markdown",
   "id": "cb9aa51d",
   "metadata": {},
   "source": [
    "Let's now move to the next variable, `'Sub-Area`.\n",
    "In this case, we want to convert the variable, which is a categorical variable, into a format that can be readily used by our neural network. To do so, we are using *'one-hot encoding'*, which helps us creating new binary variables (i.e.,including only True or False) to represent the original categorical values."
   ]
  },
  {
   "cell_type": "code",
   "execution_count": 16,
   "id": "c32ffcb0",
   "metadata": {},
   "outputs": [
    {
     "data": {
      "text/html": [
       "<div>\n",
       "<style scoped>\n",
       "    .dataframe tbody tr th:only-of-type {\n",
       "        vertical-align: middle;\n",
       "    }\n",
       "\n",
       "    .dataframe tbody tr th {\n",
       "        vertical-align: top;\n",
       "    }\n",
       "\n",
       "    .dataframe thead th {\n",
       "        text-align: right;\n",
       "    }\n",
       "</style>\n",
       "<table border=\"1\" class=\"dataframe\">\n",
       "  <thead>\n",
       "    <tr style=\"text-align: right;\">\n",
       "      <th></th>\n",
       "      <th>area_akurdi</th>\n",
       "      <th>area_balewadi</th>\n",
       "      <th>area_baner</th>\n",
       "      <th>area_bavdhan</th>\n",
       "      <th>area_bavdhan budruk</th>\n",
       "      <th>area_bt kawade rd</th>\n",
       "      <th>area_dhanori</th>\n",
       "      <th>area_hadapsar</th>\n",
       "      <th>area_handewadi</th>\n",
       "      <th>area_hinjewadi</th>\n",
       "      <th>...</th>\n",
       "      <th>area_mundhwa</th>\n",
       "      <th>area_nibm</th>\n",
       "      <th>area_pisoli</th>\n",
       "      <th>area_ravet</th>\n",
       "      <th>area_susgaon</th>\n",
       "      <th>area_talegoan</th>\n",
       "      <th>area_tathawade</th>\n",
       "      <th>area_undri</th>\n",
       "      <th>area_vimannagar</th>\n",
       "      <th>area_wadgaon sheri</th>\n",
       "    </tr>\n",
       "  </thead>\n",
       "  <tbody>\n",
       "    <tr>\n",
       "      <th>0</th>\n",
       "      <td>0.0</td>\n",
       "      <td>0.0</td>\n",
       "      <td>0.0</td>\n",
       "      <td>1.0</td>\n",
       "      <td>0.0</td>\n",
       "      <td>0.0</td>\n",
       "      <td>0.0</td>\n",
       "      <td>0.0</td>\n",
       "      <td>0.0</td>\n",
       "      <td>0.0</td>\n",
       "      <td>...</td>\n",
       "      <td>0.0</td>\n",
       "      <td>0.0</td>\n",
       "      <td>0.0</td>\n",
       "      <td>0.0</td>\n",
       "      <td>0.0</td>\n",
       "      <td>0.0</td>\n",
       "      <td>0.0</td>\n",
       "      <td>0.0</td>\n",
       "      <td>0.0</td>\n",
       "      <td>0.0</td>\n",
       "    </tr>\n",
       "    <tr>\n",
       "      <th>1</th>\n",
       "      <td>0.0</td>\n",
       "      <td>0.0</td>\n",
       "      <td>0.0</td>\n",
       "      <td>1.0</td>\n",
       "      <td>0.0</td>\n",
       "      <td>0.0</td>\n",
       "      <td>0.0</td>\n",
       "      <td>0.0</td>\n",
       "      <td>0.0</td>\n",
       "      <td>0.0</td>\n",
       "      <td>...</td>\n",
       "      <td>0.0</td>\n",
       "      <td>0.0</td>\n",
       "      <td>0.0</td>\n",
       "      <td>0.0</td>\n",
       "      <td>0.0</td>\n",
       "      <td>0.0</td>\n",
       "      <td>0.0</td>\n",
       "      <td>0.0</td>\n",
       "      <td>0.0</td>\n",
       "      <td>0.0</td>\n",
       "    </tr>\n",
       "    <tr>\n",
       "      <th>2</th>\n",
       "      <td>0.0</td>\n",
       "      <td>0.0</td>\n",
       "      <td>0.0</td>\n",
       "      <td>1.0</td>\n",
       "      <td>0.0</td>\n",
       "      <td>0.0</td>\n",
       "      <td>0.0</td>\n",
       "      <td>0.0</td>\n",
       "      <td>0.0</td>\n",
       "      <td>0.0</td>\n",
       "      <td>...</td>\n",
       "      <td>0.0</td>\n",
       "      <td>0.0</td>\n",
       "      <td>0.0</td>\n",
       "      <td>0.0</td>\n",
       "      <td>0.0</td>\n",
       "      <td>0.0</td>\n",
       "      <td>0.0</td>\n",
       "      <td>0.0</td>\n",
       "      <td>0.0</td>\n",
       "      <td>0.0</td>\n",
       "    </tr>\n",
       "    <tr>\n",
       "      <th>3</th>\n",
       "      <td>0.0</td>\n",
       "      <td>0.0</td>\n",
       "      <td>0.0</td>\n",
       "      <td>1.0</td>\n",
       "      <td>0.0</td>\n",
       "      <td>0.0</td>\n",
       "      <td>0.0</td>\n",
       "      <td>0.0</td>\n",
       "      <td>0.0</td>\n",
       "      <td>0.0</td>\n",
       "      <td>...</td>\n",
       "      <td>0.0</td>\n",
       "      <td>0.0</td>\n",
       "      <td>0.0</td>\n",
       "      <td>0.0</td>\n",
       "      <td>0.0</td>\n",
       "      <td>0.0</td>\n",
       "      <td>0.0</td>\n",
       "      <td>0.0</td>\n",
       "      <td>0.0</td>\n",
       "      <td>0.0</td>\n",
       "    </tr>\n",
       "    <tr>\n",
       "      <th>4</th>\n",
       "      <td>0.0</td>\n",
       "      <td>0.0</td>\n",
       "      <td>0.0</td>\n",
       "      <td>0.0</td>\n",
       "      <td>0.0</td>\n",
       "      <td>0.0</td>\n",
       "      <td>0.0</td>\n",
       "      <td>0.0</td>\n",
       "      <td>0.0</td>\n",
       "      <td>0.0</td>\n",
       "      <td>...</td>\n",
       "      <td>0.0</td>\n",
       "      <td>0.0</td>\n",
       "      <td>0.0</td>\n",
       "      <td>0.0</td>\n",
       "      <td>0.0</td>\n",
       "      <td>0.0</td>\n",
       "      <td>0.0</td>\n",
       "      <td>0.0</td>\n",
       "      <td>0.0</td>\n",
       "      <td>0.0</td>\n",
       "    </tr>\n",
       "  </tbody>\n",
       "</table>\n",
       "<p>5 rows × 33 columns</p>\n",
       "</div>"
      ],
      "text/plain": [
       "   area_akurdi  area_balewadi  area_baner  area_bavdhan  area_bavdhan budruk  \\\n",
       "0          0.0            0.0         0.0           1.0                  0.0   \n",
       "1          0.0            0.0         0.0           1.0                  0.0   \n",
       "2          0.0            0.0         0.0           1.0                  0.0   \n",
       "3          0.0            0.0         0.0           1.0                  0.0   \n",
       "4          0.0            0.0         0.0           0.0                  0.0   \n",
       "\n",
       "   area_bt kawade rd  area_dhanori  area_hadapsar  area_handewadi  \\\n",
       "0                0.0           0.0            0.0             0.0   \n",
       "1                0.0           0.0            0.0             0.0   \n",
       "2                0.0           0.0            0.0             0.0   \n",
       "3                0.0           0.0            0.0             0.0   \n",
       "4                0.0           0.0            0.0             0.0   \n",
       "\n",
       "   area_hinjewadi  ...  area_mundhwa  area_nibm  area_pisoli  area_ravet  \\\n",
       "0             0.0  ...           0.0        0.0          0.0         0.0   \n",
       "1             0.0  ...           0.0        0.0          0.0         0.0   \n",
       "2             0.0  ...           0.0        0.0          0.0         0.0   \n",
       "3             0.0  ...           0.0        0.0          0.0         0.0   \n",
       "4             0.0  ...           0.0        0.0          0.0         0.0   \n",
       "\n",
       "   area_susgaon  area_talegoan  area_tathawade  area_undri  area_vimannagar  \\\n",
       "0           0.0            0.0             0.0         0.0              0.0   \n",
       "1           0.0            0.0             0.0         0.0              0.0   \n",
       "2           0.0            0.0             0.0         0.0              0.0   \n",
       "3           0.0            0.0             0.0         0.0              0.0   \n",
       "4           0.0            0.0             0.0         0.0              0.0   \n",
       "\n",
       "   area_wadgaon sheri  \n",
       "0                 0.0  \n",
       "1                 0.0  \n",
       "2                 0.0  \n",
       "3                 0.0  \n",
       "4                 0.0  \n",
       "\n",
       "[5 rows x 33 columns]"
      ]
     },
     "execution_count": 16,
     "metadata": {},
     "output_type": "execute_result"
    }
   ],
   "source": [
    "# converting our categorical variables using 'one-hot encoding' \n",
    "area_encoded = pd.get_dummies(df_selection['Sub-Area'].str.lower().str.strip(), prefix = 'area', dtype = 'float64')\n",
    "\n",
    "# check the categorical variables\n",
    "area_encoded.head()"
   ]
  },
  {
   "cell_type": "markdown",
   "id": "09ed08b9",
   "metadata": {},
   "source": [
    "I can then concatenate the data base to our new binary variables using *`concat`*."
   ]
  },
  {
   "cell_type": "code",
   "execution_count": 17,
   "id": "438f41d2",
   "metadata": {},
   "outputs": [
    {
     "data": {
      "text/html": [
       "<div>\n",
       "<style scoped>\n",
       "    .dataframe tbody tr th:only-of-type {\n",
       "        vertical-align: middle;\n",
       "    }\n",
       "\n",
       "    .dataframe tbody tr th {\n",
       "        vertical-align: top;\n",
       "    }\n",
       "\n",
       "    .dataframe thead th {\n",
       "        text-align: right;\n",
       "    }\n",
       "</style>\n",
       "<table border=\"1\" class=\"dataframe\">\n",
       "  <thead>\n",
       "    <tr style=\"text-align: right;\">\n",
       "      <th></th>\n",
       "      <th>Propert Type</th>\n",
       "      <th>Property Area in Sq. Ft.</th>\n",
       "      <th>Sub-Area</th>\n",
       "      <th>Swimming Pool</th>\n",
       "      <th>Price in Millions</th>\n",
       "      <th>area_akurdi</th>\n",
       "      <th>area_balewadi</th>\n",
       "      <th>area_baner</th>\n",
       "      <th>area_bavdhan</th>\n",
       "      <th>area_bavdhan budruk</th>\n",
       "      <th>...</th>\n",
       "      <th>area_mundhwa</th>\n",
       "      <th>area_nibm</th>\n",
       "      <th>area_pisoli</th>\n",
       "      <th>area_ravet</th>\n",
       "      <th>area_susgaon</th>\n",
       "      <th>area_talegoan</th>\n",
       "      <th>area_tathawade</th>\n",
       "      <th>area_undri</th>\n",
       "      <th>area_vimannagar</th>\n",
       "      <th>area_wadgaon sheri</th>\n",
       "    </tr>\n",
       "  </thead>\n",
       "  <tbody>\n",
       "    <tr>\n",
       "      <th>0</th>\n",
       "      <td>1</td>\n",
       "      <td>492.0</td>\n",
       "      <td>Bavdhan</td>\n",
       "      <td>Yes</td>\n",
       "      <td>3.9</td>\n",
       "      <td>0.0</td>\n",
       "      <td>0.0</td>\n",
       "      <td>0.0</td>\n",
       "      <td>1.0</td>\n",
       "      <td>0.0</td>\n",
       "      <td>...</td>\n",
       "      <td>0.0</td>\n",
       "      <td>0.0</td>\n",
       "      <td>0.0</td>\n",
       "      <td>0.0</td>\n",
       "      <td>0.0</td>\n",
       "      <td>0.0</td>\n",
       "      <td>0.0</td>\n",
       "      <td>0.0</td>\n",
       "      <td>0.0</td>\n",
       "      <td>0.0</td>\n",
       "    </tr>\n",
       "    <tr>\n",
       "      <th>1</th>\n",
       "      <td>2</td>\n",
       "      <td>774.0</td>\n",
       "      <td>Bavdhan</td>\n",
       "      <td>Yes</td>\n",
       "      <td>6.5</td>\n",
       "      <td>0.0</td>\n",
       "      <td>0.0</td>\n",
       "      <td>0.0</td>\n",
       "      <td>1.0</td>\n",
       "      <td>0.0</td>\n",
       "      <td>...</td>\n",
       "      <td>0.0</td>\n",
       "      <td>0.0</td>\n",
       "      <td>0.0</td>\n",
       "      <td>0.0</td>\n",
       "      <td>0.0</td>\n",
       "      <td>0.0</td>\n",
       "      <td>0.0</td>\n",
       "      <td>0.0</td>\n",
       "      <td>0.0</td>\n",
       "      <td>0.0</td>\n",
       "    </tr>\n",
       "    <tr>\n",
       "      <th>2</th>\n",
       "      <td>3</td>\n",
       "      <td>889.0</td>\n",
       "      <td>Bavdhan</td>\n",
       "      <td>Yes</td>\n",
       "      <td>7.4</td>\n",
       "      <td>0.0</td>\n",
       "      <td>0.0</td>\n",
       "      <td>0.0</td>\n",
       "      <td>1.0</td>\n",
       "      <td>0.0</td>\n",
       "      <td>...</td>\n",
       "      <td>0.0</td>\n",
       "      <td>0.0</td>\n",
       "      <td>0.0</td>\n",
       "      <td>0.0</td>\n",
       "      <td>0.0</td>\n",
       "      <td>0.0</td>\n",
       "      <td>0.0</td>\n",
       "      <td>0.0</td>\n",
       "      <td>0.0</td>\n",
       "      <td>0.0</td>\n",
       "    </tr>\n",
       "    <tr>\n",
       "      <th>3</th>\n",
       "      <td>3</td>\n",
       "      <td>1018.0</td>\n",
       "      <td>Bavdhan</td>\n",
       "      <td>Yes</td>\n",
       "      <td>8.9</td>\n",
       "      <td>0.0</td>\n",
       "      <td>0.0</td>\n",
       "      <td>0.0</td>\n",
       "      <td>1.0</td>\n",
       "      <td>0.0</td>\n",
       "      <td>...</td>\n",
       "      <td>0.0</td>\n",
       "      <td>0.0</td>\n",
       "      <td>0.0</td>\n",
       "      <td>0.0</td>\n",
       "      <td>0.0</td>\n",
       "      <td>0.0</td>\n",
       "      <td>0.0</td>\n",
       "      <td>0.0</td>\n",
       "      <td>0.0</td>\n",
       "      <td>0.0</td>\n",
       "    </tr>\n",
       "    <tr>\n",
       "      <th>4</th>\n",
       "      <td>2</td>\n",
       "      <td>743.0</td>\n",
       "      <td>Mahalunge</td>\n",
       "      <td>Yes</td>\n",
       "      <td>7.4</td>\n",
       "      <td>0.0</td>\n",
       "      <td>0.0</td>\n",
       "      <td>0.0</td>\n",
       "      <td>0.0</td>\n",
       "      <td>0.0</td>\n",
       "      <td>...</td>\n",
       "      <td>0.0</td>\n",
       "      <td>0.0</td>\n",
       "      <td>0.0</td>\n",
       "      <td>0.0</td>\n",
       "      <td>0.0</td>\n",
       "      <td>0.0</td>\n",
       "      <td>0.0</td>\n",
       "      <td>0.0</td>\n",
       "      <td>0.0</td>\n",
       "      <td>0.0</td>\n",
       "    </tr>\n",
       "  </tbody>\n",
       "</table>\n",
       "<p>5 rows × 38 columns</p>\n",
       "</div>"
      ],
      "text/plain": [
       "  Propert Type  Property Area in Sq. Ft.   Sub-Area Swimming Pool  \\\n",
       "0            1                     492.0    Bavdhan           Yes   \n",
       "1            2                     774.0    Bavdhan           Yes   \n",
       "2            3                     889.0    Bavdhan           Yes   \n",
       "3            3                    1018.0    Bavdhan           Yes   \n",
       "4            2                     743.0  Mahalunge           Yes   \n",
       "\n",
       "   Price in Millions  area_akurdi  area_balewadi  area_baner  area_bavdhan  \\\n",
       "0                3.9          0.0            0.0         0.0           1.0   \n",
       "1                6.5          0.0            0.0         0.0           1.0   \n",
       "2                7.4          0.0            0.0         0.0           1.0   \n",
       "3                8.9          0.0            0.0         0.0           1.0   \n",
       "4                7.4          0.0            0.0         0.0           0.0   \n",
       "\n",
       "   area_bavdhan budruk  ...  area_mundhwa  area_nibm  area_pisoli  area_ravet  \\\n",
       "0                  0.0  ...           0.0        0.0          0.0         0.0   \n",
       "1                  0.0  ...           0.0        0.0          0.0         0.0   \n",
       "2                  0.0  ...           0.0        0.0          0.0         0.0   \n",
       "3                  0.0  ...           0.0        0.0          0.0         0.0   \n",
       "4                  0.0  ...           0.0        0.0          0.0         0.0   \n",
       "\n",
       "   area_susgaon  area_talegoan  area_tathawade  area_undri  area_vimannagar  \\\n",
       "0           0.0            0.0             0.0         0.0              0.0   \n",
       "1           0.0            0.0             0.0         0.0              0.0   \n",
       "2           0.0            0.0             0.0         0.0              0.0   \n",
       "3           0.0            0.0             0.0         0.0              0.0   \n",
       "4           0.0            0.0             0.0         0.0              0.0   \n",
       "\n",
       "   area_wadgaon sheri  \n",
       "0                 0.0  \n",
       "1                 0.0  \n",
       "2                 0.0  \n",
       "3                 0.0  \n",
       "4                 0.0  \n",
       "\n",
       "[5 rows x 38 columns]"
      ]
     },
     "execution_count": 17,
     "metadata": {},
     "output_type": "execute_result"
    }
   ],
   "source": [
    "# concatenate df_selection with encoded variables\n",
    "df_selection = pd.concat([df_selection,area_encoded], axis = 1)\n",
    "\n",
    "# check the updated dataset\n",
    "df_selection.head()"
   ]
  },
  {
   "cell_type": "markdown",
   "id": "dc89f334",
   "metadata": {},
   "source": [
    "I can now remove the `'Sub-Area'` variable, using again the *`drop`* function."
   ]
  },
  {
   "cell_type": "code",
   "execution_count": 19,
   "id": "846b014a",
   "metadata": {},
   "outputs": [],
   "source": [
    "# drop the 'Sub-Area' variable\n",
    "df_selection = df_selection.drop('Sub-Area', axis = 1)"
   ]
  },
  {
   "cell_type": "markdown",
   "id": "04f95a5c",
   "metadata": {},
   "source": [
    "Let's finally have a look at the last variable, `'Swimming Pool'`. In particular, I want to analyse the its values."
   ]
  },
  {
   "cell_type": "code",
   "execution_count": 20,
   "id": "6d8d49cf",
   "metadata": {},
   "outputs": [
    {
     "data": {
      "text/plain": [
       "array(['Yes', 'No', 'no', 'yes', 'no '], dtype=object)"
      ]
     },
     "execution_count": 20,
     "metadata": {},
     "output_type": "execute_result"
    }
   ],
   "source": [
    "df_selection['Swimming Pool'].unique()"
   ]
  },
  {
   "cell_type": "markdown",
   "id": "1108173c",
   "metadata": {},
   "source": [
    "We can see that the array contains different values (some in lowercase, some in uppercase, and others with unnecessary space). Therefore, we need to (1) convert the values in lowercase using *`lower()`*, (2) remove any space using *`strip()`*, and (3) convert from string to binary using *`map()`*."
   ]
  },
  {
   "cell_type": "code",
   "execution_count": 21,
   "id": "a54ca65a",
   "metadata": {},
   "outputs": [],
   "source": [
    "# convert the 'Swimming Pool' variable from string to binary\n",
    "df_selection['Swimming Pool'] = df_selection['Swimming Pool'].str.lower().str.strip().map(\n",
    "    {'yes': True , 'no': False}\n",
    ")"
   ]
  },
  {
   "cell_type": "markdown",
   "id": "7af9f8a5",
   "metadata": {},
   "source": [
    "Let's check if we have converted correctly the variable `'Swimming Pool'` to binary, so that its values are True or False."
   ]
  },
  {
   "cell_type": "code",
   "execution_count": 23,
   "id": "c20998f2",
   "metadata": {},
   "outputs": [
    {
     "data": {
      "text/plain": [
       "array([ True, False])"
      ]
     },
     "execution_count": 23,
     "metadata": {},
     "output_type": "execute_result"
    }
   ],
   "source": [
    "# check if the conversion happened correctly\n",
    "df_selection['Swimming Pool'].unique()"
   ]
  },
  {
   "cell_type": "markdown",
   "id": "74369b99",
   "metadata": {},
   "source": [
    "### Variable Scaling\n",
    "The final step consists of scaling (i.e., normalising between 0 and 1) the `'Property Area in Sq.Ft.'` as its values are too large compared to the other variables' values; this would overpower the other inputs' activations resulting in an unfair representation in the network. To do so, we are going to use the *`MinMaxScaler()`*."
   ]
  },
  {
   "cell_type": "code",
   "execution_count": 24,
   "id": "bc715c31",
   "metadata": {},
   "outputs": [
    {
     "name": "stderr",
     "output_type": "stream",
     "text": [
      "/Users/hp/opt/anaconda3/lib/python3.9/site-packages/sklearn/utils/validation.py:623: FutureWarning: is_sparse is deprecated and will be removed in a future version. Check `isinstance(dtype, pd.SparseDtype)` instead.\n",
      "  if not hasattr(array, \"sparse\") and array.dtypes.apply(is_sparse).any():\n",
      "/Users/hp/opt/anaconda3/lib/python3.9/site-packages/sklearn/utils/validation.py:623: FutureWarning: is_sparse is deprecated and will be removed in a future version. Check `isinstance(dtype, pd.SparseDtype)` instead.\n",
      "  if not hasattr(array, \"sparse\") and array.dtypes.apply(is_sparse).any():\n"
     ]
    }
   ],
   "source": [
    "# scale the 'Property Area in Sq.Ft.' variable \n",
    "scaler = MinMaxScaler()\n",
    "df_selection['Property Area in Sq. Ft.'] = scaler.fit_transform(df_selection[['Property Area in Sq. Ft.']])"
   ]
  },
  {
   "cell_type": "markdown",
   "id": "1c2366a1",
   "metadata": {},
   "source": [
    "Let's check the resulting scaled variable:"
   ]
  },
  {
   "cell_type": "code",
   "execution_count": 25,
   "id": "a2138b2e",
   "metadata": {},
   "outputs": [
    {
     "data": {
      "text/plain": [
       "0    0.162382\n",
       "1    0.283205\n",
       "2    0.332476\n",
       "3    0.387746\n",
       "4    0.269923\n",
       "Name: Property Area in Sq. Ft., dtype: float64"
      ]
     },
     "execution_count": 25,
     "metadata": {},
     "output_type": "execute_result"
    }
   ],
   "source": [
    "df_selection['Property Area in Sq. Ft.'].head()"
   ]
  },
  {
   "cell_type": "markdown",
   "id": "ee56e908",
   "metadata": {},
   "source": [
    "## The Clean Dataset\n",
    "At this point, I should have cleaned our dataset, which should contain only float variables.\n",
    "Let's ensure that this is true by converting all values to float."
   ]
  },
  {
   "cell_type": "code",
   "execution_count": 26,
   "id": "49b2db27",
   "metadata": {},
   "outputs": [],
   "source": [
    "# ensuring our variables are float\n",
    "df_selection['Propert Type'] = df_selection['Propert Type'].astype(float, errors = 'raise')\n",
    "df_selection['Property Area in Sq. Ft.'] = df_selection['Property Area in Sq. Ft.'].astype(float, errors = 'raise')\n",
    "df_selection['Swimming Pool'] = df_selection['Swimming Pool'].astype(float, errors = 'raise')  \n",
    "df_selection['Price in Millions'] = df_selection['Price in Millions'].astype(float, errors = 'raise')"
   ]
  },
  {
   "cell_type": "code",
   "execution_count": 27,
   "id": "db9db13b",
   "metadata": {},
   "outputs": [
    {
     "data": {
      "text/html": [
       "<div>\n",
       "<style scoped>\n",
       "    .dataframe tbody tr th:only-of-type {\n",
       "        vertical-align: middle;\n",
       "    }\n",
       "\n",
       "    .dataframe tbody tr th {\n",
       "        vertical-align: top;\n",
       "    }\n",
       "\n",
       "    .dataframe thead th {\n",
       "        text-align: right;\n",
       "    }\n",
       "</style>\n",
       "<table border=\"1\" class=\"dataframe\">\n",
       "  <thead>\n",
       "    <tr style=\"text-align: right;\">\n",
       "      <th></th>\n",
       "      <th>Propert Type</th>\n",
       "      <th>Property Area in Sq. Ft.</th>\n",
       "      <th>Swimming Pool</th>\n",
       "      <th>Price in Millions</th>\n",
       "      <th>area_akurdi</th>\n",
       "      <th>area_balewadi</th>\n",
       "      <th>area_baner</th>\n",
       "      <th>area_bavdhan</th>\n",
       "      <th>area_bavdhan budruk</th>\n",
       "      <th>area_bt kawade rd</th>\n",
       "      <th>...</th>\n",
       "      <th>area_mundhwa</th>\n",
       "      <th>area_nibm</th>\n",
       "      <th>area_pisoli</th>\n",
       "      <th>area_ravet</th>\n",
       "      <th>area_susgaon</th>\n",
       "      <th>area_talegoan</th>\n",
       "      <th>area_tathawade</th>\n",
       "      <th>area_undri</th>\n",
       "      <th>area_vimannagar</th>\n",
       "      <th>area_wadgaon sheri</th>\n",
       "    </tr>\n",
       "  </thead>\n",
       "  <tbody>\n",
       "    <tr>\n",
       "      <th>0</th>\n",
       "      <td>1.0</td>\n",
       "      <td>0.162382</td>\n",
       "      <td>1.0</td>\n",
       "      <td>3.9</td>\n",
       "      <td>0.0</td>\n",
       "      <td>0.0</td>\n",
       "      <td>0.0</td>\n",
       "      <td>1.0</td>\n",
       "      <td>0.0</td>\n",
       "      <td>0.0</td>\n",
       "      <td>...</td>\n",
       "      <td>0.0</td>\n",
       "      <td>0.0</td>\n",
       "      <td>0.0</td>\n",
       "      <td>0.0</td>\n",
       "      <td>0.0</td>\n",
       "      <td>0.0</td>\n",
       "      <td>0.0</td>\n",
       "      <td>0.0</td>\n",
       "      <td>0.0</td>\n",
       "      <td>0.0</td>\n",
       "    </tr>\n",
       "    <tr>\n",
       "      <th>1</th>\n",
       "      <td>2.0</td>\n",
       "      <td>0.283205</td>\n",
       "      <td>1.0</td>\n",
       "      <td>6.5</td>\n",
       "      <td>0.0</td>\n",
       "      <td>0.0</td>\n",
       "      <td>0.0</td>\n",
       "      <td>1.0</td>\n",
       "      <td>0.0</td>\n",
       "      <td>0.0</td>\n",
       "      <td>...</td>\n",
       "      <td>0.0</td>\n",
       "      <td>0.0</td>\n",
       "      <td>0.0</td>\n",
       "      <td>0.0</td>\n",
       "      <td>0.0</td>\n",
       "      <td>0.0</td>\n",
       "      <td>0.0</td>\n",
       "      <td>0.0</td>\n",
       "      <td>0.0</td>\n",
       "      <td>0.0</td>\n",
       "    </tr>\n",
       "    <tr>\n",
       "      <th>2</th>\n",
       "      <td>3.0</td>\n",
       "      <td>0.332476</td>\n",
       "      <td>1.0</td>\n",
       "      <td>7.4</td>\n",
       "      <td>0.0</td>\n",
       "      <td>0.0</td>\n",
       "      <td>0.0</td>\n",
       "      <td>1.0</td>\n",
       "      <td>0.0</td>\n",
       "      <td>0.0</td>\n",
       "      <td>...</td>\n",
       "      <td>0.0</td>\n",
       "      <td>0.0</td>\n",
       "      <td>0.0</td>\n",
       "      <td>0.0</td>\n",
       "      <td>0.0</td>\n",
       "      <td>0.0</td>\n",
       "      <td>0.0</td>\n",
       "      <td>0.0</td>\n",
       "      <td>0.0</td>\n",
       "      <td>0.0</td>\n",
       "    </tr>\n",
       "    <tr>\n",
       "      <th>3</th>\n",
       "      <td>3.0</td>\n",
       "      <td>0.387746</td>\n",
       "      <td>1.0</td>\n",
       "      <td>8.9</td>\n",
       "      <td>0.0</td>\n",
       "      <td>0.0</td>\n",
       "      <td>0.0</td>\n",
       "      <td>1.0</td>\n",
       "      <td>0.0</td>\n",
       "      <td>0.0</td>\n",
       "      <td>...</td>\n",
       "      <td>0.0</td>\n",
       "      <td>0.0</td>\n",
       "      <td>0.0</td>\n",
       "      <td>0.0</td>\n",
       "      <td>0.0</td>\n",
       "      <td>0.0</td>\n",
       "      <td>0.0</td>\n",
       "      <td>0.0</td>\n",
       "      <td>0.0</td>\n",
       "      <td>0.0</td>\n",
       "    </tr>\n",
       "    <tr>\n",
       "      <th>4</th>\n",
       "      <td>2.0</td>\n",
       "      <td>0.269923</td>\n",
       "      <td>1.0</td>\n",
       "      <td>7.4</td>\n",
       "      <td>0.0</td>\n",
       "      <td>0.0</td>\n",
       "      <td>0.0</td>\n",
       "      <td>0.0</td>\n",
       "      <td>0.0</td>\n",
       "      <td>0.0</td>\n",
       "      <td>...</td>\n",
       "      <td>0.0</td>\n",
       "      <td>0.0</td>\n",
       "      <td>0.0</td>\n",
       "      <td>0.0</td>\n",
       "      <td>0.0</td>\n",
       "      <td>0.0</td>\n",
       "      <td>0.0</td>\n",
       "      <td>0.0</td>\n",
       "      <td>0.0</td>\n",
       "      <td>0.0</td>\n",
       "    </tr>\n",
       "  </tbody>\n",
       "</table>\n",
       "<p>5 rows × 37 columns</p>\n",
       "</div>"
      ],
      "text/plain": [
       "   Propert Type  Property Area in Sq. Ft.  Swimming Pool  Price in Millions  \\\n",
       "0           1.0                  0.162382            1.0                3.9   \n",
       "1           2.0                  0.283205            1.0                6.5   \n",
       "2           3.0                  0.332476            1.0                7.4   \n",
       "3           3.0                  0.387746            1.0                8.9   \n",
       "4           2.0                  0.269923            1.0                7.4   \n",
       "\n",
       "   area_akurdi  area_balewadi  area_baner  area_bavdhan  area_bavdhan budruk  \\\n",
       "0          0.0            0.0         0.0           1.0                  0.0   \n",
       "1          0.0            0.0         0.0           1.0                  0.0   \n",
       "2          0.0            0.0         0.0           1.0                  0.0   \n",
       "3          0.0            0.0         0.0           1.0                  0.0   \n",
       "4          0.0            0.0         0.0           0.0                  0.0   \n",
       "\n",
       "   area_bt kawade rd  ...  area_mundhwa  area_nibm  area_pisoli  area_ravet  \\\n",
       "0                0.0  ...           0.0        0.0          0.0         0.0   \n",
       "1                0.0  ...           0.0        0.0          0.0         0.0   \n",
       "2                0.0  ...           0.0        0.0          0.0         0.0   \n",
       "3                0.0  ...           0.0        0.0          0.0         0.0   \n",
       "4                0.0  ...           0.0        0.0          0.0         0.0   \n",
       "\n",
       "   area_susgaon  area_talegoan  area_tathawade  area_undri  area_vimannagar  \\\n",
       "0           0.0            0.0             0.0         0.0              0.0   \n",
       "1           0.0            0.0             0.0         0.0              0.0   \n",
       "2           0.0            0.0             0.0         0.0              0.0   \n",
       "3           0.0            0.0             0.0         0.0              0.0   \n",
       "4           0.0            0.0             0.0         0.0              0.0   \n",
       "\n",
       "   area_wadgaon sheri  \n",
       "0                 0.0  \n",
       "1                 0.0  \n",
       "2                 0.0  \n",
       "3                 0.0  \n",
       "4                 0.0  \n",
       "\n",
       "[5 rows x 37 columns]"
      ]
     },
     "execution_count": 27,
     "metadata": {},
     "output_type": "execute_result"
    }
   ],
   "source": [
    "df_selection.head()"
   ]
  },
  {
   "cell_type": "markdown",
   "id": "caeb9ce8",
   "metadata": {},
   "source": [
    " I can split our dataset in 2: one including all variables except for the `'Price in Millions'`, and one including only `'Price in Millions'`. This step will allow us to compare the variable predicted with the model to the actual variable, which is `'Price in Millions'`."
   ]
  },
  {
   "cell_type": "code",
   "execution_count": 28,
   "id": "87b7bc3e",
   "metadata": {},
   "outputs": [
    {
     "name": "stdout",
     "output_type": "stream",
     "text": [
      "(198, 36)\n",
      "(198,)\n"
     ]
    }
   ],
   "source": [
    "# dataset including all variables, but 'Price in Millions'\n",
    "X = df_selection.drop(['Price in Millions'], axis = 1)\n",
    "print(X.shape)\n",
    "\n",
    "# dataset including only 'Price in Millions'\n",
    "Y = df_selection['Price in Millions']\n",
    "print(Y.shape)"
   ]
  },
  {
   "cell_type": "markdown",
   "id": "062ed931",
   "metadata": {},
   "source": [
    "Later on, I will need to perform array operations; therefore, if we have arrays with different shapes, we need to reshape them to make them comparable and be able to perform element-wise operations. This is the case of the variable `'Y'`, which has currently the shape (198,), but should be (198,1). Let's reshape it using *`reshape`*."
   ]
  },
  {
   "cell_type": "code",
   "execution_count": 29,
   "id": "5218c1af",
   "metadata": {},
   "outputs": [
    {
     "name": "stdout",
     "output_type": "stream",
     "text": [
      "(198, 1)\n"
     ]
    }
   ],
   "source": [
    "# reshape the array\n",
    "Y = Y.values.reshape((Y.shape[0], 1)) \n",
    "print(Y.shape)"
   ]
  },
  {
   "cell_type": "markdown",
   "id": "2ad9bd17",
   "metadata": {},
   "source": [
    "I can now create *test data* and *training data*. Test data excludes the first 150 rows, while test data includes the last 48 rows. Also in this case, I need to transpose the data to be able to perfrom array operations."
   ]
  },
  {
   "cell_type": "code",
   "execution_count": 30,
   "id": "1fdd04e0",
   "metadata": {},
   "outputs": [
    {
     "name": "stdout",
     "output_type": "stream",
     "text": [
      "X_test: (36, 48)\n",
      "Y_test: (1, 48)\n",
      "X_train: (36, 150)\n",
      "Y_train: (1, 150)\n"
     ]
    }
   ],
   "source": [
    "# test data and shape\n",
    "X_test=X[150:].T  \n",
    "Y_test=Y[150:].T  \n",
    "print('X_test:', X_test.shape)\n",
    "print('Y_test:', Y_test.shape)\n",
    "\n",
    "#training data and shape\n",
    "X_train = X[:150].T\n",
    "Y_train = Y[:150].T\n",
    "print('X_train:', X_train.shape)\n",
    "print('Y_train:', Y_train.shape)  "
   ]
  },
  {
   "cell_type": "markdown",
   "id": "3c3eff79",
   "metadata": {},
   "source": [
    "## Model Training\n",
    "### Single-Layer Neural Network Computation\n",
    "I am now going through the *Single-Layer* computation, the simplest form of neural network. Defined like that as there is only one layer of input nodes that send weighted inputs to a subsequent layer of receiving nodes.\n",
    "\n",
    "I will start with the forward-propagation and finish with backward propagation.\n",
    "\n",
    "### Forward Propagation\n",
    "The process is based on the below two steps:\n",
    "1. *Inputs initialization*. Weighted sum of inputs from the previous layer plus the bias.\n",
    "\n",
    "2. *Activation*. The calculated weighted sum of inputs is passed to the activation function to add non-linearity to the network. Among the most popular activation functions, we are considering the *Rectified Linear Unit (ReLU) activation function*.\n",
    "\n",
    "With the *inputs initialization*, we want to initialize the weights (`W`), the bias (`b`), and the resultant output (`Z`) from these.\n",
    " \n",
    "The weight initialization usually depends on the activation function considered in the analysis. The standard approach when using a ReLU activation function is the *he* initialization method.\n",
    "\n",
    "This method generates weights as a random number with a Gaussian probability distribution (G) with a mean of 0.0 and a standard deviation of sqrt(2/n), where n is the number of inputs to the node.\n",
    "\n",
    "weight ~ G (0.0, sqrt(2/n))\n",
    "\n",
    "In our example, n equals 36.\n"
   ]
  },
  {
   "cell_type": "code",
   "execution_count": 31,
   "id": "66eedbd9",
   "metadata": {},
   "outputs": [
    {
     "name": "stdout",
     "output_type": "stream",
     "text": [
      "36\n"
     ]
    },
    {
     "data": {
      "text/plain": [
       "array([[ 1.26623607e+00,  1.59799743e+00, -1.77261619e+00,\n",
       "         1.45298337e+00,  1.97168010e+00, -2.13000813e+00,\n",
       "        -2.65996382e+00,  5.14330696e-01, -1.70626985e-01,\n",
       "         2.51505802e+00,  1.73670326e-01, -1.50005041e+00,\n",
       "         4.84546659e-02, -1.25021463e-01, -1.82160749e-01,\n",
       "        -1.74692412e-01,  1.14507147e+00, -3.21256967e-01,\n",
       "         1.88122880e-01, -9.87429721e-01,  3.32081929e+00,\n",
       "         1.70494399e+00, -1.70533966e+00,  9.30083748e-01,\n",
       "         2.10485620e-03, -1.28063438e-01, -1.87949932e+00,\n",
       "        -1.30315268e+00,  1.55026618e+00,  3.72051969e-01,\n",
       "        -7.25985046e-01, -2.56654748e-01, -2.43487988e+00,\n",
       "         1.31621940e+00,  1.26870410e+00, -6.48567778e-01]])"
      ]
     },
     "execution_count": 31,
     "metadata": {},
     "output_type": "execute_result"
    }
   ],
   "source": [
    "# the 'he' initialization\n",
    "n_in = X_train\n",
    "n_out = Y_train\n",
    "n = n_in.shape[0] # this equals to 36\n",
    "print(n)\n",
    "# calculate the standard deviation\n",
    "std = np.sqrt(2.0/n_out.shape[0])\n",
    "# calculate the weights\n",
    "W = np.random.randn(n_out.shape[0], n_in.shape[0]) * std\n",
    "W"
   ]
  },
  {
   "cell_type": "markdown",
   "id": "3c448f62",
   "metadata": {},
   "source": [
    "Once I initialized the weights, we should do the same with the bias (`b`). In this case, I will set it to zero, for simplicity."
   ]
  },
  {
   "cell_type": "code",
   "execution_count": 32,
   "id": "2818ab3e",
   "metadata": {},
   "outputs": [
    {
     "data": {
      "text/plain": [
       "(1, 150)"
      ]
     },
     "execution_count": 32,
     "metadata": {},
     "output_type": "execute_result"
    }
   ],
   "source": [
    "n_out.shape"
   ]
  },
  {
   "cell_type": "code",
   "execution_count": 33,
   "id": "ed96ee87",
   "metadata": {},
   "outputs": [],
   "source": [
    "# initialize bias 'b' as zero\n",
    "b = np.zeros((n_out.shape[0], 1))"
   ]
  },
  {
   "cell_type": "markdown",
   "id": "c70abd70",
   "metadata": {},
   "source": [
    "Now, we are ready to perform a *forward-propagation*, which refers to the calculation and storage of intermediate variable (`Z`) for a neural network from the input layer to the output layer.\n",
    "\n",
    "$$Z = X^{T}W + b$$"
   ]
  },
  {
   "cell_type": "code",
   "execution_count": 34,
   "id": "120ae906",
   "metadata": {},
   "outputs": [
    {
     "data": {
      "text/plain": [
       "(1, 150)"
      ]
     },
     "execution_count": 34,
     "metadata": {},
     "output_type": "execute_result"
    }
   ],
   "source": [
    "# initialize the intermediate variable\n",
    "Z = np.dot(W, n_in) + b\n",
    "Z.shape"
   ]
  },
  {
   "cell_type": "markdown",
   "id": "b595cd51",
   "metadata": {},
   "source": [
    "Next, I pass to the *activation*. The scope is to process the output $Z$ through an *activation function*. As mentioned, I have chosen to use the *ReLU* function for our activation. This is a linear function that will output the input directly if it is positive, otherwise, it will output zero.\n",
    "\n",
    "The output $\\hat{Y}$ represents our *prediction*."
   ]
  },
  {
   "cell_type": "code",
   "execution_count": 35,
   "id": "55061545",
   "metadata": {},
   "outputs": [],
   "source": [
    "# ReLU function\n",
    "Y_hat = np.maximum(0,Z)"
   ]
  },
  {
   "cell_type": "code",
   "execution_count": 36,
   "id": "de34cd2d",
   "metadata": {},
   "outputs": [
    {
     "data": {
      "text/plain": [
       "150"
      ]
     },
     "execution_count": 36,
     "metadata": {},
     "output_type": "execute_result"
    }
   ],
   "source": [
    "Y_hat.shape[1]"
   ]
  },
  {
   "cell_type": "markdown",
   "id": "a08b9eb5",
   "metadata": {},
   "source": [
    "We are now going to compare the prediction $\\hat{Y}$ to a *true* value $Y$ to calculate the *Mean Squared Error (MSE)* between predicted and true values. This can be calculated using the Loss Function $L(\\hat{Y},Y)$.\n",
    "$$MSE = L(\\hat{Y},Y) = \\frac{1}{n}\\ (\\hat{Y} - Y)^{2}$$"
   ]
  },
  {
   "cell_type": "code",
   "execution_count": 37,
   "id": "bb00f6b8",
   "metadata": {},
   "outputs": [],
   "source": [
    "# define the true value 'Y' and the sample size 'n'\n",
    "Y = Y_train\n",
    "n = Y_hat.shape[1]\n",
    "\n",
    "# calculate the mean squared error or loss function\n",
    "E = (1 / n) * np.sum(np.square(Y_hat - Y))  "
   ]
  },
  {
   "cell_type": "code",
   "execution_count": 38,
   "id": "97d736b4",
   "metadata": {},
   "outputs": [
    {
     "data": {
      "text/plain": [
       "(166.14102964794716, ())"
      ]
     },
     "execution_count": 38,
     "metadata": {},
     "output_type": "execute_result"
    }
   ],
   "source": [
    "# this is the error before training our neural network\n",
    "E, E.shape"
   ]
  },
  {
   "cell_type": "markdown",
   "id": "f91a0967",
   "metadata": {},
   "source": [
    "### Backward Propagation\n",
    "This is a way of propagating the total loss back into the neural network to see how much of the loss every node is responsible for, and then updating the weights to minimize the loss by giving the nodes with higher error, lower weights and vice-versa.\n",
    "\n",
    "First, we need to derive the slope of the function to understand the direction we need to go to. If the slope is positive, then we would need to move to the right; otherwise, we would need to move to the left. \n",
    "\n",
    "To do that, we can calculate the derivative of the mean squared error (MSE) with respect to the output activation $\\hat{Y}$.\n",
    "\n",
    "\n",
    "$$\\dfrac{\\partial E }{\\partial \\hat{Y}}=\\dfrac{2}{n}\\left( \\hat{Y}- Y\\right)$$"
   ]
  },
  {
   "cell_type": "code",
   "execution_count": 39,
   "id": "47f0ec61",
   "metadata": {},
   "outputs": [
    {
     "data": {
      "text/plain": [
       "(1, 150)"
      ]
     },
     "execution_count": 39,
     "metadata": {},
     "output_type": "execute_result"
    }
   ],
   "source": [
    "# derivative of the loss function\n",
    "dE = (2 / n) * (Y_hat - Y)\n",
    "dE.shape"
   ]
  },
  {
   "cell_type": "markdown",
   "id": "6d81fccd",
   "metadata": {},
   "source": [
    "After, I need calculate the derivative of the ReLU function to update the weights of a node as part of the backpropagation of error.\n",
    "\n",
    "The derivative of the ReLU function is the slope. The slope for negative values is 0.0 and the slope for positive values is 1.0."
   ]
  },
  {
   "cell_type": "code",
   "execution_count": 40,
   "id": "43807f01",
   "metadata": {},
   "outputs": [
    {
     "data": {
      "text/plain": [
       "(1, 150)"
      ]
     },
     "execution_count": 40,
     "metadata": {},
     "output_type": "execute_result"
    }
   ],
   "source": [
    "# derivative of the ReLU function\n",
    "dY_hat = (Z > 0)\n",
    "dY_hat.shape"
   ]
  },
  {
   "cell_type": "markdown",
   "id": "55c5fa82",
   "metadata": {},
   "source": [
    "How to optimize the weights? We can use a backward propagation with gradient descent.\n",
    "\n",
    "The idea is to calculate gradients of the loss function with respect to the model weights and propagate them back layer by layer. This way, the model knows the weights, responsible for creating a larger error, and tunes them accordingly.\n",
    "\n",
    "What we are aiming is minimize the cost. Gradient indicates the direction of increase. As we want to find the minimum point, we need to go in the opposite direction of the gradient. We update parameters in the negative gradient direction to minimize the loss."
   ]
  },
  {
   "cell_type": "code",
   "execution_count": 41,
   "id": "22cc65bb",
   "metadata": {},
   "outputs": [
    {
     "data": {
      "text/plain": [
       "(36, 150)"
      ]
     },
     "execution_count": 41,
     "metadata": {},
     "output_type": "execute_result"
    }
   ],
   "source": [
    "# input data \n",
    "dZ = n_in\n",
    "dZ.shape"
   ]
  },
  {
   "cell_type": "code",
   "execution_count": 42,
   "id": "4751eb42",
   "metadata": {},
   "outputs": [
    {
     "data": {
      "text/plain": [
       "(array([[-3.80622732e+01, -5.78351714e+00, -1.13430478e+01,\n",
       "         -5.47110041e-01, -2.37175549e-01, -1.19489395e-01,\n",
       "          0.00000000e+00,  0.00000000e+00, -1.09749577e+00,\n",
       "          0.00000000e+00, -4.23700409e-01, -3.39505505e-01,\n",
       "         -8.16082192e-01, -6.75075445e-01, -8.45146080e-01,\n",
       "         -6.04383346e-02, -3.64644634e-01, -2.78622282e-02,\n",
       "         -4.06298006e-01, -2.62461250e-01, -2.20770719e-01,\n",
       "          0.00000000e+00, -1.81750451e-01, -5.67253562e-01,\n",
       "         -1.29064508e-01,  0.00000000e+00, -2.49400322e-01,\n",
       "         -1.45368723e+00, -2.47568458e+00, -8.55804381e-01,\n",
       "         -1.75822107e-01,  0.00000000e+00, -1.98224454e-01,\n",
       "         -7.78877317e-03, -7.59011719e-01, -2.93256200e-01]]),\n",
       " (1, 36))"
      ]
     },
     "execution_count": 42,
     "metadata": {},
     "output_type": "execute_result"
    }
   ],
   "source": [
    "# calculate gradients of the loss function with respect to the weights\n",
    "dW = np.dot((dE * dY_hat),dZ.T)\n",
    "dW, dW.shape"
   ]
  },
  {
   "cell_type": "code",
   "execution_count": 43,
   "id": "e1323cf7",
   "metadata": {},
   "outputs": [
    {
     "data": {
      "text/plain": [
       "(array([[ 1.26623607e+00,  1.59799743e+00, -1.77261619e+00,\n",
       "          1.45298337e+00,  1.97168010e+00, -2.13000813e+00,\n",
       "         -2.65996382e+00,  5.14330696e-01, -1.70626985e-01,\n",
       "          2.51505802e+00,  1.73670326e-01, -1.50005041e+00,\n",
       "          4.84546659e-02, -1.25021463e-01, -1.82160749e-01,\n",
       "         -1.74692412e-01,  1.14507147e+00, -3.21256967e-01,\n",
       "          1.88122880e-01, -9.87429721e-01,  3.32081929e+00,\n",
       "          1.70494399e+00, -1.70533966e+00,  9.30083748e-01,\n",
       "          2.10485620e-03, -1.28063438e-01, -1.87949932e+00,\n",
       "         -1.30315268e+00,  1.55026618e+00,  3.72051969e-01,\n",
       "         -7.25985046e-01, -2.56654748e-01, -2.43487988e+00,\n",
       "          1.31621940e+00,  1.26870410e+00, -6.48567778e-01]]),\n",
       " (1, 36))"
      ]
     },
     "execution_count": 43,
     "metadata": {},
     "output_type": "execute_result"
    }
   ],
   "source": [
    "W, W.shape"
   ]
  },
  {
   "cell_type": "markdown",
   "id": "2f5e6f73",
   "metadata": {},
   "source": [
    "How can we increase/decrease the size of weight updates? We can use the *learning rate* $\\alpha$.\n",
    "\n",
    "Unfortunately, we cannot calculate the optimal learning rate, but we can derive a good-enough learning rate via trial and error to find, on average, a good-enough set of weights. Typically, the range of values to consider for the learning rate is less than $1$ and greater than $10^{-6}$. \n",
    "\n",
    "After running the model several times, we chose $\\alpha = 0.1$, and used it for the below weight optimization equation.\n",
    "\n",
    "$$W = W - \\alpha \\dfrac{\\partial L }{\\partial w}$$"
   ]
  },
  {
   "cell_type": "code",
   "execution_count": 44,
   "id": "5848b661",
   "metadata": {},
   "outputs": [
    {
     "data": {
      "text/plain": [
       "(array([[ 5.0724634 ,  2.17634915, -0.63831142,  1.50769437,  1.99539765,\n",
       "         -2.11805919, -2.65996382,  0.5143307 , -0.06087741,  2.51505802,\n",
       "          0.21604037, -1.46609986,  0.13006289, -0.05751392, -0.09764614,\n",
       "         -0.16864858,  1.18153594, -0.31847074,  0.22875268, -0.9611836 ,\n",
       "          3.34289636,  1.70494399, -1.68716462,  0.9868091 ,  0.01501131,\n",
       "         -0.12806344, -1.85455929, -1.15778395,  1.79783464,  0.45763241,\n",
       "         -0.70840284, -0.25665475, -2.41505743,  1.31699828,  1.34460527,\n",
       "         -0.61924216]]),\n",
       " (1, 36))"
      ]
     },
     "execution_count": 44,
     "metadata": {},
     "output_type": "execute_result"
    }
   ],
   "source": [
    "# define the 'learning rate'\n",
    "alpha = 0.1\n",
    "\n",
    "# update the weights using the learning rate\n",
    "W = W - (alpha * dW)\n",
    "\n",
    "# see updated weights\n",
    "W, W.shape"
   ]
  },
  {
   "cell_type": "markdown",
   "id": "1d19a582",
   "metadata": {},
   "source": [
    "As we did for the weights, we need now to calculate the derivative of the loss function, but with respect to the bias ($b$). After, we need to update the bias using the learning rate ($\\alpha$)."
   ]
  },
  {
   "cell_type": "code",
   "execution_count": 45,
   "id": "1aeb2600",
   "metadata": {},
   "outputs": [],
   "source": [
    "# derivative of loss function with respect to bias\n",
    "db = np.sum((dE * dY_hat), axis = 1, keepdims = True)\n",
    "\n",
    "# update bias using the learning rate\n",
    "b = b - (db * alpha) "
   ]
  },
  {
   "cell_type": "markdown",
   "id": "e47f41dc",
   "metadata": {},
   "source": [
    "The above calculations represent an *epoch*, i.e., an entire loop through the forward and back-propagation process using every sample in the training set; however, only one epoch will lead to *underfitting error*. That is why, to get to an optimal model, we need to increase the number of epochs. Note that using too many epochs might result in *overfitting error* instead. There is no correct number of epochs, it depends on the size and type of dataset and model. In this example, we are going to use 100 epochs, as it seems to give us the optimal curve.\n",
    "\n",
    "Let's now iterate the process to *optimize* our weights and predict a value $\\hat{Y}$ closer to the true value $Y$. To do so, we are going to use the *`for`* loop."
   ]
  },
  {
   "cell_type": "code",
   "execution_count": 46,
   "id": "412d3d73",
   "metadata": {},
   "outputs": [],
   "source": [
    "# define a variable to store the error calculated in each iteration\n",
    "error = []\n",
    "\n",
    "# set number of epochs\n",
    "epochs = 100 \n",
    "\n",
    "# iteration\n",
    "for i in range(epochs):\n",
    "\n",
    "    # initialize the intermediate variable\n",
    "    Z = np.dot(W, n_in) + b\n",
    "    \n",
    "    # forward-propagation\n",
    "    # ReLU activation\n",
    "    Y_hat = np.maximum(0,Z) \n",
    "    \n",
    "    # define the sample size 'n'\n",
    "    # note that the true value 'Y' is already defined in the above calculation - no need to define it again.\n",
    "    n = Y_hat.shape[1] \n",
    "     \n",
    "    # calculate the mean squared error or loss function\n",
    "    E = (1 / n) * np.sum(np.square(Y_hat - Y))\n",
    "\n",
    "    # backward-propagation\n",
    "    # derivative of the loss function\n",
    "    dE = (2 / n) * (Y_hat - Y) \n",
    "    \n",
    "    # derivative of Relu Activation function\n",
    "    dY_hat = (Z > 0)\n",
    "\n",
    "    # input data \n",
    "    dZ = n_in  \n",
    "\n",
    "    # derivative of loss function with respect to weights\n",
    "    dW = np.dot((dE * dY_hat),dZ.T)\n",
    "    \n",
    "    # derivative of loss function with respect to bias\n",
    "    db = np.sum((dE * dY_hat), axis = 1, keepdims = True)\n",
    "    \n",
    "    # update weights\n",
    "    W = W - (dW * alpha)\n",
    "    \n",
    "    # update bias\n",
    "    b = b - (db * alpha) \n",
    "\n",
    "    # error\n",
    "    error.append(E)"
   ]
  },
  {
   "cell_type": "markdown",
   "id": "a7ecb9a8",
   "metadata": {},
   "source": [
    "We can now plot the error using `matplotlib`."
   ]
  },
  {
   "cell_type": "code",
   "execution_count": 47,
   "id": "47e3776f",
   "metadata": {},
   "outputs": [
    {
     "data": {
      "image/png": "[encoded data removed]",
      "text/plain": [
       "<Figure size 640x480 with 1 Axes>"
      ]
     },
     "metadata": {},
     "output_type": "display_data"
    }
   ],
   "source": [
    "# plot the error\n",
    "plt.ylabel('Error')\n",
    "plt.xlabel('Epochs')\n",
    "plt.title(\"Learning Rate = \" + str(alpha))\n",
    "plt.plot(np.squeeze(error))\n",
    "plt.show()"
   ]
  },
  {
   "cell_type": "markdown",
   "id": "859a97ee",
   "metadata": {},
   "source": [
    "### Model Evaluation\n",
    "Now I am going to apply the knowledge from the trained neural network model on the test data and use it to infer the result. "
   ]
  },
  {
   "cell_type": "code",
   "execution_count": 48,
   "id": "e48cc023",
   "metadata": {},
   "outputs": [],
   "source": [
    "# let's now push our test set through the neural network with our learned weights and bias \n",
    "Z_predict = np.dot(W, X_test) + b  \n",
    "\n",
    "# activation function\n",
    "Y_hat_predict=np.maximum(0,Z_predict)\n",
    "\n",
    "# define the size\n",
    "n = X_test.shape[1]  \n",
    "\n",
    "# error prediction\n",
    "E_predict = (1 / n) * np.sum(np.square(Y_hat_predict - Y_test))  "
   ]
  },
  {
   "cell_type": "markdown",
   "id": "3f043463",
   "metadata": {},
   "source": [
    "Let's look at the error after training. "
   ]
  },
  {
   "cell_type": "code",
   "execution_count": 49,
   "id": "08e4daba",
   "metadata": {},
   "outputs": [
    {
     "data": {
      "text/plain": [
       "26.657317914740705"
      ]
     },
     "execution_count": 49,
     "metadata": {},
     "output_type": "execute_result"
    }
   ],
   "source": [
    "# updated error\n",
    "E_predict"
   ]
  },
  {
   "cell_type": "code",
   "execution_count": 50,
   "id": "7111c7f3",
   "metadata": {},
   "outputs": [
    {
     "data": {
      "image/png": "[encoded data removed]",
      "text/plain": [
       "<Figure size 640x480 with 1 Axes>"
      ]
     },
     "metadata": {},
     "output_type": "display_data"
    }
   ],
   "source": [
    "# plot the predicted values vs. the actual values\n",
    "plt.ylabel('Price in Millions')\n",
    "plt.xlabel('Sample')\n",
    "plt.title(\"Predicted vs. Actual\")\n",
    "plt.plot(np.squeeze(Y_hat_predict),label = \"Predicted\")\n",
    "plt.plot(np.squeeze(Y_test), label = \"Actual\")\n",
    "plt.legend()\n",
    "plt.show()"
   ]
  },
  {
   "cell_type": "markdown",
   "id": "57df91e1",
   "metadata": {},
   "source": [
    "We can see from even this very simple example that a neural net can be setup to train and update its own weights to improve upon its error/cost. \n",
    "\n",
    "However, you can also see that using the current single hidden layer network, our predictions are generally correlated but not too accurate,  but the reason for this is that our network is unable to represent complex relationships with only a few weights. However, when we take the same concepts discussed above and apply them across multiple layers with more neurons and adjustable weights/biases more complex relationships can be represented. "
   ]
  },
  {
   "cell_type": "code",
   "execution_count": null,
   "id": "334b3010",
   "metadata": {},
   "outputs": [],
   "source": []
  }
 ],
 "metadata": {
  "kernelspec": {
   "display_name": "Python 3 (ipykernel)",
   "language": "python",
   "name": "python3"
  },
  "language_info": {
   "codemirror_mode": {
    "name": "ipython",
    "version": 3
   },
   "file_extension": ".py",
   "mimetype": "text/x-python",
   "name": "python",
   "nbconvert_exporter": "python",
   "pygments_lexer": "ipython3",
   "version": "3.9.18"
  }
 },
 "nbformat": 4,
 "nbformat_minor": 5
}
